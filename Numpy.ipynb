{
  "nbformat": 4,
  "nbformat_minor": 0,
  "metadata": {
    "colab": {
      "name": "Numpy.ipynb",
      "provenance": [],
      "authorship_tag": "ABX9TyO8rvCzUyrgUWXX+jmt1o3L",
      "include_colab_link": true
    },
    "kernelspec": {
      "name": "python3",
      "display_name": "Python 3"
    },
    "language_info": {
      "name": "python"
    }
  },
  "cells": [
    {
      "cell_type": "markdown",
      "metadata": {
        "id": "view-in-github",
        "colab_type": "text"
      },
      "source": [
        "<a href=\"https://colab.research.google.com/github/Aayus001/Machine-Learning/blob/main/Numpy.ipynb\" target=\"_parent\"><img src=\"https://colab.research.google.com/assets/colab-badge.svg\" alt=\"Open In Colab\"/></a>"
      ]
    },
    {
      "cell_type": "code",
      "execution_count": null,
      "metadata": {
        "colab": {
          "base_uri": "https://localhost:8080/"
        },
        "id": "ZwHiV6HOwJVE",
        "outputId": "06f87cfd-a31a-47fc-d754-f70c6c180f86"
      },
      "outputs": [
        {
          "output_type": "stream",
          "name": "stdout",
          "text": [
            "3\n",
            "(3, 3, 4)\n",
            "36\n"
          ]
        }
      ],
      "source": [
        "import numpy as np\n",
        "a=np.array([[[1,2,3,9],[3,4,5,10],[6,7,8,10]],[[1,2,3,10],[3,4,5,10],\n",
        "[6,7,8,10]],[[1,2,3,10],[3,4,5,10],[6,7,8,10]]])\n",
        "print(a.ndim)\n",
        "print(a.shape)\n",
        "print(a.size)\n"
      ]
    },
    {
      "cell_type": "code",
      "source": [
        "import numpy as np"
      ],
      "metadata": {
        "id": "SvpEtjnjwhev"
      },
      "execution_count": null,
      "outputs": []
    },
    {
      "cell_type": "code",
      "source": [
        "a = np.arange(20).reshape(5,4)\n",
        "print(a)"
      ],
      "metadata": {
        "colab": {
          "base_uri": "https://localhost:8080/"
        },
        "id": "qgxtL28Dww22",
        "outputId": "31bba532-958c-43ec-d2ef-c96b16feb65e"
      },
      "execution_count": null,
      "outputs": [
        {
          "output_type": "stream",
          "name": "stdout",
          "text": [
            "[[ 0  1  2  3]\n",
            " [ 4  5  6  7]\n",
            " [ 8  9 10 11]\n",
            " [12 13 14 15]\n",
            " [16 17 18 19]]\n"
          ]
        }
      ]
    },
    {
      "cell_type": "code",
      "source": [
        "import numpy as np\n",
        "a=np.arange(24).reshape(2,3,4)\n",
        "a.resize(3,8)\n",
        "a"
      ],
      "metadata": {
        "colab": {
          "base_uri": "https://localhost:8080/"
        },
        "id": "_UqYCDQCxKoX",
        "outputId": "a0e2559d-2d9c-4126-cfba-e10ee5a84fc1"
      },
      "execution_count": null,
      "outputs": [
        {
          "output_type": "execute_result",
          "data": {
            "text/plain": [
              "array([[ 0,  1,  2,  3,  4,  5,  6,  7],\n",
              "       [ 8,  9, 10, 11, 12, 13, 14, 15],\n",
              "       [16, 17, 18, 19, 20, 21, 22, 23]])"
            ]
          },
          "metadata": {},
          "execution_count": 4
        }
      ]
    },
    {
      "cell_type": "code",
      "source": [
        "a = np.array([[2,3,4],[4,5,6]])\n",
        "print(a)\n",
        "print(a.dtype)\n",
        "b = np.array([1.2, 3.5, 5.1])\n",
        "print(b)\n",
        "print(b.dtype)"
      ],
      "metadata": {
        "colab": {
          "base_uri": "https://localhost:8080/"
        },
        "id": "qPAilOEhxOZF",
        "outputId": "1d2dd647-4dca-4ffb-e18c-02ddc17ebdf8"
      },
      "execution_count": null,
      "outputs": [
        {
          "output_type": "stream",
          "name": "stdout",
          "text": [
            "[[2 3 4]\n",
            " [4 5 6]]\n",
            "int64\n",
            "[1.2 3.5 5.1]\n",
            "float64\n"
          ]
        }
      ]
    },
    {
      "cell_type": "code",
      "source": [
        "#a = np.array(1,2,3,4)    # WRONG\n",
        "a = np.array([1,2,3,4])  # RIGHT\n",
        "b = np.array([[1.5,2,3], [4,5,6]])\n",
        "c = np.array( [ [1,2], [3,4] ], dtype=complex )\n",
        "print(b)\n",
        "print(c)"
      ],
      "metadata": {
        "colab": {
          "base_uri": "https://localhost:8080/"
        },
        "id": "WN6B3pXxxrI7",
        "outputId": "378071bb-e9e7-49be-a572-6c3ec3de3041"
      },
      "execution_count": null,
      "outputs": [
        {
          "output_type": "stream",
          "name": "stdout",
          "text": [
            "[[1.5 2.  3. ]\n",
            " [4.  5.  6. ]]\n",
            "[[1.+0.j 2.+0.j]\n",
            " [3.+0.j 4.+0.j]]\n"
          ]
        }
      ]
    },
    {
      "cell_type": "code",
      "source": [
        "c = np.array( [ [1,2], [3,4] ], dtype=complex )    # type of array explicitly defined\n",
        "c"
      ],
      "metadata": {
        "id": "u5iBp6Elx2TU"
      },
      "execution_count": null,
      "outputs": []
    },
    {
      "cell_type": "code",
      "source": [
        "c=np.empty( (2,3) )\n",
        "print(c)\n",
        "b=np.ones( (2,3,4), dtype=np.int16 ) \n",
        "b"
      ],
      "metadata": {
        "colab": {
          "base_uri": "https://localhost:8080/"
        },
        "id": "KF15Ffjlx33m",
        "outputId": "00b7dbda-1f5c-4fc9-c32d-5e9e2ac27662"
      },
      "execution_count": null,
      "outputs": [
        {
          "output_type": "stream",
          "name": "stdout",
          "text": [
            "[[9.9e-324 1.5e-323 2.0e-323]\n",
            " [2.0e-323 2.5e-323 3.0e-323]]\n"
          ]
        },
        {
          "output_type": "execute_result",
          "data": {
            "text/plain": [
              "array([[[1, 1, 1, 1],\n",
              "        [1, 1, 1, 1],\n",
              "        [1, 1, 1, 1]],\n",
              "\n",
              "       [[1, 1, 1, 1],\n",
              "        [1, 1, 1, 1],\n",
              "        [1, 1, 1, 1]]], dtype=int16)"
            ]
          },
          "metadata": {},
          "execution_count": 7
        }
      ]
    },
    {
      "cell_type": "code",
      "source": [
        "b=np.ones( (2,3,4), dtype=np.int16 ) \n",
        "b"
      ],
      "metadata": {
        "colab": {
          "base_uri": "https://localhost:8080/"
        },
        "id": "a52zXlRXyMmj",
        "outputId": "9ba6d75f-9b9f-452d-ea12-4bbab10bccd5"
      },
      "execution_count": null,
      "outputs": [
        {
          "output_type": "execute_result",
          "data": {
            "text/plain": [
              "array([[[1, 1, 1, 1],\n",
              "        [1, 1, 1, 1],\n",
              "        [1, 1, 1, 1]],\n",
              "\n",
              "       [[1, 1, 1, 1],\n",
              "        [1, 1, 1, 1],\n",
              "        [1, 1, 1, 1]]], dtype=int16)"
            ]
          },
          "metadata": {},
          "execution_count": 15
        }
      ]
    },
    {
      "cell_type": "code",
      "source": [
        "b=np.ones( (2,3,4), dtype=np.int16 )\n",
        "n=np.empty((2,5))\n",
        "print(n)"
      ],
      "metadata": {
        "colab": {
          "base_uri": "https://localhost:8080/"
        },
        "id": "lvmDL7xkyV7b",
        "outputId": "ffdeca2c-6228-4ab9-dee2-1defc2158b55"
      },
      "execution_count": null,
      "outputs": [
        {
          "output_type": "stream",
          "name": "stdout",
          "text": [
            "[[0.         0.55555556 1.11111111 1.66666667 2.22222222]\n",
            " [2.77777778 3.33333333 3.88888889 4.44444444 5.        ]]\n"
          ]
        }
      ]
    },
    {
      "cell_type": "code",
      "source": [
        "c=np.linspace( 0, 2, 9 )\n",
        "ca=np.arange( 0, 2, 9 )\n",
        "b=np.linspace( 0, 2, 5 )\n",
        "ba=np.arange( 0, 2, 5 )\n",
        "a=np.linspace( 0, 2, 20 )\n",
        "aa=np.arange( 0, 2, 20 )\n",
        "print(a ,aa ,b,ba,c,ca, sep='\\n') "
      ],
      "metadata": {
        "colab": {
          "base_uri": "https://localhost:8080/"
        },
        "id": "NIEzMtWUybSH",
        "outputId": "b1e47541-a56d-45dd-a833-4c36db586f78"
      },
      "execution_count": null,
      "outputs": [
        {
          "output_type": "stream",
          "name": "stdout",
          "text": [
            "[0.         0.10526316 0.21052632 0.31578947 0.42105263 0.52631579\n",
            " 0.63157895 0.73684211 0.84210526 0.94736842 1.05263158 1.15789474\n",
            " 1.26315789 1.36842105 1.47368421 1.57894737 1.68421053 1.78947368\n",
            " 1.89473684 2.        ]\n",
            "[0]\n",
            "[0.  0.5 1.  1.5 2. ]\n",
            "[0]\n",
            "[0.   0.25 0.5  0.75 1.   1.25 1.5  1.75 2.  ]\n",
            "[0]\n"
          ]
        }
      ]
    },
    {
      "cell_type": "code",
      "source": [
        "import numpy as np \n",
        "a = np.array([0,30,45,60,90]) \n",
        "print('Sine of different angles:' )\n",
        "# Convert to radians by multiplying with pi/180 \n",
        "print(np.sin(a*np.pi/180) )\n",
        "print('\\n' ) \n",
        "print( 'Cosine values for angles in array:' )\n",
        "print(np.cos(a*np.pi/180))\n",
        "print ('\\n' ) \n",
        "print('Tangent values for given angles:' )\n",
        "print(np.tan(a*np.pi/180))"
      ],
      "metadata": {
        "colab": {
          "base_uri": "https://localhost:8080/"
        },
        "id": "bovcxz4Syq_a",
        "outputId": "abf6e92a-a39c-4ec1-894a-888dcc19168e"
      },
      "execution_count": null,
      "outputs": [
        {
          "output_type": "stream",
          "name": "stdout",
          "text": [
            "Sine of different angles:\n",
            "[0.         0.5        0.70710678 0.8660254  1.        ]\n",
            "\n",
            "\n",
            "Cosine values for angles in array:\n",
            "[1.00000000e+00 8.66025404e-01 7.07106781e-01 5.00000000e-01\n",
            " 6.12323400e-17]\n",
            "\n",
            "\n",
            "Tangent values for given angles:\n",
            "[0.00000000e+00 5.77350269e-01 1.00000000e+00 1.73205081e+00\n",
            " 1.63312394e+16]\n"
          ]
        }
      ]
    },
    {
      "cell_type": "code",
      "source": [
        "e = np.random.random((2, 2)) \n",
        "print (\"\\nA random array:\\n\", e) \n",
        "  \n",
        "# Create a sequence of integers  \n",
        "# from 0 to 30 with steps of 5 \n",
        "f = np.arange(0, 30, 5) \n",
        "print (\"\\nA sequential array with steps of 5:\\n\", f) \n",
        "  \n",
        "# Create a sequence of 10 values in range 0 to 5 \n",
        "g = np.linspace(0, 5, 10) \n",
        "print (\"\\nA sequential array with 10 values between\" \n",
        "                                                   \"0 and 5:\\n\", g) \n",
        "# Reshaping 3X4 array to 2X2X3 array \n",
        "arr = np.array([[1, 2, 3, 4], \n",
        "                [5, 2, 4, 2], \n",
        "                [1, 2, 0, 1]]) \n",
        "newarr = arr.reshape(2, 2, 3) \n",
        "print (\"\\nOriginal array:\\n\", arr) \n",
        "print (\"Reshaped array:\\n\", newarr) \n",
        "  \n",
        "# Flatten array \n",
        "arr = np.array([[1, 2, 3], [4, 5, 6]]) \n",
        "flarr = arr.flatten() \n",
        "print (\"\\nOriginal array:\\n\", arr) \n",
        "print (\"Fattened array:\\n\", flarr) "
      ],
      "metadata": {
        "colab": {
          "base_uri": "https://localhost:8080/"
        },
        "id": "SSgjaz9xy5Oi",
        "outputId": "5559dc5b-49a3-4d27-cba1-a3943301c053"
      },
      "execution_count": null,
      "outputs": [
        {
          "output_type": "stream",
          "name": "stdout",
          "text": [
            "\n",
            "A random array:\n",
            " [[0.96312255 0.33504273]\n",
            " [0.8510262  0.32313756]]\n",
            "\n",
            "A sequential array with steps of 5:\n",
            " [ 0  5 10 15 20 25]\n",
            "\n",
            "A sequential array with 10 values between0 and 5:\n",
            " [0.         0.55555556 1.11111111 1.66666667 2.22222222 2.77777778\n",
            " 3.33333333 3.88888889 4.44444444 5.        ]\n",
            "\n",
            "Original array:\n",
            " [[1 2 3 4]\n",
            " [5 2 4 2]\n",
            " [1 2 0 1]]\n",
            "Reshaped array:\n",
            " [[[1 2 3]\n",
            "  [4 5 2]]\n",
            "\n",
            " [[4 2 1]\n",
            "  [2 0 1]]]\n",
            "\n",
            "Original array:\n",
            " [[1 2 3]\n",
            " [4 5 6]]\n",
            "Fattened array:\n",
            " [1 2 3 4 5 6]\n"
          ]
        }
      ]
    },
    {
      "cell_type": "code",
      "source": [
        "import numpy as np \n",
        "a = np.array([[1, 2], \n",
        "              [3, 4]]) \n",
        "b = np.array([[5, 6], \n",
        "              [7, 8]]) \n",
        "# vertical stacking \n",
        "print(\"Vertical stacking:\\n\", np.vstack((a, b))) \n",
        "# horizontal stacking \n",
        "print(\"\\nHorizontal stacking:\\n\", np.hstack((a, b))) \n",
        "c = [5, 6] \n",
        "# stacking columns \n",
        "print(\"\\nColumn stacking:\\n\", np.column_stack((a, c))) \n",
        "# concatenation method  \n",
        "print(\"\\nConcatenating to 2nd axis:\\n\", np.concatenate((a, b), 1)) "
      ],
      "metadata": {
        "colab": {
          "base_uri": "https://localhost:8080/"
        },
        "id": "4jkUOxTYzeZm",
        "outputId": "1756db27-33d4-45e1-dc25-033661524a00"
      },
      "execution_count": null,
      "outputs": [
        {
          "output_type": "stream",
          "name": "stdout",
          "text": [
            "Vertical stacking:\n",
            " [[1 2]\n",
            " [3 4]\n",
            " [5 6]\n",
            " [7 8]]\n",
            "\n",
            "Horizontal stacking:\n",
            " [[1 2 5 6]\n",
            " [3 4 7 8]]\n",
            "\n",
            "Column stacking:\n",
            " [[1 2 5]\n",
            " [3 4 6]]\n",
            "\n",
            "Concatenating to 2nd axis:\n",
            " [[1 2 5 6]\n",
            " [3 4 7 8]]\n"
          ]
        }
      ]
    },
    {
      "cell_type": "code",
      "source": [
        "import numpy as np \n",
        "a = np.array([0.0, 10.0, 20.0, 30.0])\n",
        "b = np.array([0.0, 1.0, 2.0,5.0]) \n",
        "print(a + b)"
      ],
      "metadata": {
        "colab": {
          "base_uri": "https://localhost:8080/"
        },
        "id": "4xeEpfezz8lZ",
        "outputId": "e84cb001-4c04-4d72-f92c-985efbe18d3e"
      },
      "execution_count": null,
      "outputs": [
        {
          "output_type": "stream",
          "name": "stdout",
          "text": [
            "[ 0. 11. 22. 35.]\n"
          ]
        }
      ]
    },
    {
      "cell_type": "code",
      "source": [
        "a = np.ones(3, dtype=np.int32)\n",
        "b = np.linspace(0, 3, 4)\n",
        "print(a)\n",
        "print(b)\n",
        "print(a.sum(), b.min(), b.max())"
      ],
      "metadata": {
        "colab": {
          "base_uri": "https://localhost:8080/"
        },
        "id": "QXuqSrq50LPC",
        "outputId": "b63238bf-b13f-4dac-ab4c-095fafb2b91d"
      },
      "execution_count": null,
      "outputs": [
        {
          "output_type": "stream",
          "name": "stdout",
          "text": [
            "[1 1 1]\n",
            "[0. 1. 2. 3.]\n",
            "3 0.0 3.0\n"
          ]
        }
      ]
    }
  ]
}